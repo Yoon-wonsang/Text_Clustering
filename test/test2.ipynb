{
 "cells": [
  {
   "cell_type": "code",
   "execution_count": 1,
   "id": "1d9f49f7-3dfc-4375-97d1-f279c479347b",
   "metadata": {},
   "outputs": [],
   "source": [
    "import pysqream"
   ]
  },
  {
   "cell_type": "code",
   "execution_count": 2,
   "id": "21f77018-0d78-48ac-8ff5-17663f637697",
   "metadata": {},
   "outputs": [],
   "source": [
    "import pysqream"
   ]
  },
  {
   "cell_type": "code",
   "execution_count": null,
   "id": "ff807bae-e4fe-45ba-a820-9bca043579a5",
   "metadata": {},
   "outputs": [],
   "source": []
  }
 ],
 "metadata": {
  "kernelspec": {
   "display_name": "Python 3",
   "language": "python",
   "name": "python3"
  },
  "language_info": {
   "codemirror_mode": {
    "name": "ipython",
    "version": 3
   },
   "file_extension": ".py",
   "mimetype": "text/x-python",
   "name": "python",
   "nbconvert_exporter": "python",
   "pygments_lexer": "ipython3",
   "version": "3.6.10"
  }
 },
 "nbformat": 4,
 "nbformat_minor": 5
}
